{
 "cells": [
  {
   "cell_type": "markdown",
   "metadata": {
    "tags": []
   },
   "source": [
    "## corv: Validations Off Of Falcon et. al, 2010\n",
    "\n",
    "[GitHub Page](https://github.com/vedantchandra/corv)\n",
    "\n",
    "---\n",
    "\n",
    "Table Of Contents:\n",
    "\n",
    "1. [Validation Without Templates](#validation-no-template)\n",
    "2. [Validation With Templates](#validation-template)\n",
    "3. [Comparison Of Methods](#validation-betwixt)\n",
    "\n",
    "---\n",
    "\n",
    "In order to establish that `corv` actually works, we can compare the radial velocities it calculates to DA radial velocities calculated from high-resolution spectra by [Falcon et.al, 2010](https://ui.adsabs.harvard.edu/abs/2010ApJ...712..585F/abstract). We use the sample of DA white dwarfs with spectra from [Chandra et.al, 2020](https://iopscience.iop.org/article/10.3847/1538-4357/aba8a2) and cross-match with the Falcon catalog based on position. Then we run `corv` on each spectrum, and compare the two."
   ]
  },
  {
   "cell_type": "markdown",
   "metadata": {
    "tags": []
   },
   "source": [
    "<a id=\"validation-no-template\"></a>\n",
    "\n",
    "**01. Validating RVs Without Templates (Need to check/proofread)**\n",
    "\n",
    "---\n",
    "\n",
    "First we validate `corv` in the simplest case: without template fitting."
   ]
  },
  {
   "cell_type": "code",
   "execution_count": 1,
   "metadata": {
    "tags": []
   },
   "outputs": [
    {
     "name": "stdin",
     "output_type": "stream",
     "text": [
      "The default path to the Koester models is ./models/koester_interp_da.pkl. If you would like to use this path please type y. If you would like to use a different path, please type n. If you do not wish to enter a path, please type s. y\n"
     ]
    },
    {
     "name": "stdout",
     "output_type": "stream",
     "text": [
      "Your path to the Koester models=  /models/koester_interp_da.pkl\n"
     ]
    },
    {
     "name": "stdin",
     "output_type": "stream",
     "text": [
      "The default path to the Warwick models is ./models/warwick_da. If you would like to use this path please type y. If you would like to use a different path, please type n. If you do not wish to enter a path, please type s. y\n"
     ]
    },
    {
     "name": "stdout",
     "output_type": "stream",
     "text": [
      "Your path to the Warwick models=  /models/warwick_da\n",
      "building warwick da model\n",
      "We could not find the pickled WD models\n"
     ]
    },
    {
     "name": "stdin",
     "output_type": "stream",
     "text": [
      "Please enter a new path to the Koester models. y\n"
     ]
    },
    {
     "name": "stdout",
     "output_type": "stream",
     "text": [
      "We could not find the pickled WD models. If you need to use these models, please re-import corv with the proper path.\n",
      "/Users/vedantchandra/0_research/01_sdss5/006_build_corv/data/comm_cat/\n",
      "star and exposure catalogs not found! check paths and run make_catalogs() if you want to use sdss functionality. otherwise ignore.\n"
     ]
    }
   ],
   "source": [
    "### General\n",
    "import numpy as np\n",
    "import matplotlib.pyplot as plt\n",
    "\n",
    "from astropy.table import Table, Column, MaskedColumn, join\n",
    "from astroquery.sdss import SDSS\n",
    "\n",
    "from tqdm import tqdm\n",
    "\n",
    "import sys\n",
    "sys.path.append('../corv/src')\n",
    "import corv\n",
    "#corv.sdss.make_catalogs()"
   ]
  },
  {
   "cell_type": "code",
   "execution_count": 2,
   "metadata": {
    "tags": []
   },
   "outputs": [],
   "source": [
    "# Read in the catalogs for comparison\n",
    "catalog = Table.read('data/sed_radii.fits')\n",
    "falcon = Table.read('data/falcon2010.fit')\n",
    "\n",
    "# Initialize the corv rv arrays\n",
    "catalog['corv_rv'] = -9999 * np.ones(len(catalog))\n",
    "catalog['corv_erv'] = -9999 * np.ones(len(catalog))"
   ]
  },
  {
   "cell_type": "code",
   "execution_count": 3,
   "metadata": {
    "tags": []
   },
   "outputs": [],
   "source": [
    "from astropy.coordinates import SkyCoord\n",
    "import astropy.units as u\n",
    "from astropy.table import  join_skycoord, unique\n",
    "from astropy import table\n",
    "\n",
    "# Create a column with SkyCoord positions for easy matching\n",
    "catalog['wd_pos'] = SkyCoord(catalog['ra'], catalog['dec'], unit='deg')\n",
    "falcon['wd_pos'] = SkyCoord(falcon['_RA'], falcon['_DE'], unit='deg')\n",
    "\n",
    "# Match Falcon's and Vedant's catalogs by taking targets within 5 arcsec\n",
    "join_func = table.join_skycoord(5 * u.arcsecond)\n",
    "falcon_xmatch = unique(table.join(catalog, falcon, join_funcs={'wd_pos': join_skycoord(5 * u.arcsec)}), keys = 'wd_pos_id')"
   ]
  },
  {
   "cell_type": "code",
   "execution_count": 4,
   "metadata": {
    "tags": []
   },
   "outputs": [
    {
     "name": "stderr",
     "output_type": "stream",
     "text": [
      "100%|██████████| 53/53 [06:32<00:00,  7.41s/it]\n"
     ]
    }
   ],
   "source": [
    "figs = []\n",
    "\n",
    "for j in tqdm( range(len(falcon_xmatch))):\n",
    "    # Extract SDSS plate, mjd, and fiberID from each target in both catalogs\n",
    "    p,m,f = np.array(falcon_xmatch['col_p_m_f'][j].split('-')).astype(float)\n",
    "    \n",
    "    # Query SDSS for spectra \n",
    "    xid = SDSS.query_specobj(plate = p, mjd = m, fiberID = f)\n",
    "    sp = SDSS.get_spectra(matches=xid)\n",
    "    \n",
    "    # Get pertinent spectrum data    \n",
    "    wl = np.array(10**sp[0][1].data['loglam'])\n",
    "    fl = np.array(sp[0][1].data['flux'])\n",
    "    ivar = np.array(sp[0][1].data['ivar'])\n",
    "            \n",
    "    # Make & fit a corv model without templates\n",
    "    corvmodel = corv.models.make_balmer_model(nvoigt = 2, names = ['a','b','g','d'])\n",
    "    rv, e_rv, redchi, param_res = corv.fit.fit_corv(wl, fl, ivar, corvmodel)        \n",
    "        \n",
    "    # Add that to the list\n",
    "    falcon_xmatch['corv_rv'][j] = rv\n",
    "    falcon_xmatch['corv_erv'][j] = e_rv"
   ]
  },
  {
   "cell_type": "code",
   "execution_count": 5,
   "metadata": {},
   "outputs": [
    {
     "name": "stdout",
     "output_type": "stream",
     "text": [
      "rmse: 24.6 km/s\n",
      "mae: 14.5 km/s\n",
      "bias: -3.2 km/s\n"
     ]
    }
   ],
   "source": [
    "mask_voigt = np.all([np.abs(falcon_xmatch['corv_rv']) < 2500, falcon_xmatch['s_n'] > 10], axis = 0)\n",
    "\n",
    "rmse = 0\n",
    "mae = 0\n",
    "for i in range(len(falcon_xmatch['Adp-V'][mask_voigt])):\n",
    "    rmse += (falcon_xmatch['Adp-V'][mask_voigt][i] - falcon_xmatch['corv_rv'][mask_voigt][i])**2\n",
    "    mae += np.abs(falcon_xmatch['Adp-V'][mask_voigt][i] - falcon_xmatch['corv_rv'][mask_voigt][i])\n",
    "    \n",
    "rmse = np.sqrt( rmse / len(falcon_xmatch['Adp-V'][mask_voigt]))\n",
    "mae = mae / len(falcon_xmatch['Adp-V'][mask_voigt])\n",
    "bias = np.average(falcon_xmatch['Adp-V'][mask_voigt] - falcon_xmatch['corv_rv'][mask_voigt])\n",
    "\n",
    "print('rmse: {:2.1f} km/s'.format(rmse))\n",
    "print('mae: {:2.1f} km/s'.format(mae))\n",
    "print('bias: {:2.1f} km/s'.format(bias))"
   ]
  },
  {
   "cell_type": "code",
   "execution_count": 6,
   "metadata": {
    "tags": []
   },
   "outputs": [],
   "source": [
    "from math import isnan\n",
    "\n",
    "for i in range(len(falcon_xmatch)):\n",
    "    if isnan(falcon_xmatch['corv_erv'][i]):\n",
    "        falcon_xmatch['corv_erv'][i] = mae"
   ]
  },
  {
   "cell_type": "code",
   "execution_count": 7,
   "metadata": {},
   "outputs": [],
   "source": [
    "falcon_xmatch['corv_erv'] = np.sqrt(falcon_xmatch['corv_erv']**2 + mae**2)"
   ]
  },
  {
   "cell_type": "code",
   "execution_count": 8,
   "metadata": {},
   "outputs": [
    {
     "data": {
      "text/plain": [
       "Text(0, 0.5, 'RV (corv, Voigt profiles) $[km/s]$')"
      ]
     },
     "execution_count": 8,
     "metadata": {},
     "output_type": "execute_result"
    },
    {
     "data": {
      "image/png": "[encoded data removed]",
      "text/plain": [
       "<Figure size 576x576 with 1 Axes>"
      ]
     },
     "metadata": {
      "needs_background": "light"
     },
     "output_type": "display_data"
    }
   ],
   "source": [
    "def linear(x):\n",
    "    return x\n",
    "\n",
    "plt.figure(figsize=(8,8))\n",
    "plt.style.use('stefan.mplstyle')\n",
    "\n",
    "plt.errorbar(falcon_xmatch['Adp-V'][np.abs(falcon_xmatch['corv_rv']) < 2500], falcon_xmatch['corv_rv'][np.abs(falcon_xmatch['corv_rv']) < 2500], \n",
    "             xerr = falcon_xmatch['e_Adp-V'][np.abs(falcon_xmatch['corv_rv']) < 2500], yerr = falcon_xmatch['corv_erv'][np.abs(falcon_xmatch['corv_rv']) < 2500],\n",
    "             fmt='o', label = 'Data', color='black', ecolor = 'teal')\n",
    "plt.plot(falcon_xmatch['vr'][np.abs(falcon_xmatch['corv_rv']) < 2500], linear(falcon_xmatch['vr'][np.abs(falcon_xmatch['corv_rv']) < 2500]), color = 'black')\n",
    "\n",
    "plt.text(50, -20, 'MAE = {:2.1f} km/s'.format(mae))\n",
    "plt.text(50, -40, 'Bias = {:2.1f} km/s'.format(bias))\n",
    "\n",
    "ymin, ymax = plt.ylim()\n",
    "plt.xlabel(r'RV (Falcon et. al, 2010) $[km/s]$')\n",
    "plt.ylabel(r'RV (corv, Voigt profiles) $[km/s]$')"
   ]
  },
  {
   "cell_type": "markdown",
   "metadata": {},
   "source": [
    "<a id=\"validation-template\"></a>\n",
    "\n",
    "**02. Validating RVs With Templates (Need to check/proofread)**\n",
    "\n",
    "---\n",
    "\n",
    "Next we validate `corv` using Koester templates."
   ]
  },
  {
   "cell_type": "code",
   "execution_count": 9,
   "metadata": {
    "tags": []
   },
   "outputs": [],
   "source": [
    "falcon_xmatch['corv_rv_template'] = -9999 * np.ones(len(falcon_xmatch))\n",
    "falcon_xmatch['corv_erv_template'] = -9999 * np.ones(len(falcon_xmatch))"
   ]
  },
  {
   "cell_type": "code",
   "execution_count": null,
   "metadata": {
    "tags": []
   },
   "outputs": [
    {
     "name": "stderr",
     "output_type": "stream",
     "text": [
      " 26%|██▋       | 14/53 [00:20<00:56,  1.45s/it]"
     ]
    }
   ],
   "source": [
    "figs = []\n",
    "\n",
    "for j in tqdm( range(len(falcon_xmatch))):\n",
    "    p,m,f = np.array(falcon_xmatch['col_p_m_f'][j].split('-')).astype(float)\n",
    "    \n",
    "    try:\n",
    "        xid = SDSS.query_specobj(plate = p, mjd = m, fiberID = f)\n",
    "    except ValueError:\n",
    "        print('unknown error')\n",
    "        \n",
    "    try:\n",
    "        sp = SDSS.get_spectra(matches=xid)\n",
    "    except:\n",
    "        print('http error')\n",
    "        continue\n",
    "    for i in range(len(sp[0:1])):\n",
    "        wl = np.array(10**sp[i][1].data['loglam'])\n",
    "        fl = np.array(sp[i][1].data['flux'])\n",
    "        ivar = np.array(sp[i][1].data['ivar'])\n",
    "                \n",
    "        corvmodel = corv.models.make_warwick_da_model(names = ['a','b','g','d'])\n",
    "        rv, e_rv, redchi, param_res = corv.fit.fit_corv(wl, fl, ivar, corvmodel)        \n",
    "        \n",
    "        \n",
    "    falcon_xmatch['corv_rv_template'][j] = rv\n",
    "    falcon_xmatch['corv_erv_template'][j] = e_rv"
   ]
  },
  {
   "cell_type": "code",
   "execution_count": null,
   "metadata": {
    "tags": []
   },
   "outputs": [],
   "source": [
    "mask_template = np.all([np.abs(falcon_xmatch['corv_rv']) < 2500, falcon_xmatch['s_n'] > 10], axis = 0)\n",
    "\n",
    "rmse = 0\n",
    "mae = 0\n",
    "for i in range(len(falcon_xmatch['Adp-V'][mask_template])):\n",
    "    rmse += (falcon_xmatch['Adp-V'][mask_template][i] - falcon_xmatch['corv_rv_template'][mask_template][i])**2\n",
    "    mae += np.abs(falcon_xmatch['Adp-V'][mask_template][i] - falcon_xmatch['corv_rv_template'][mask_template][i])\n",
    "    \n",
    "rmse = np.sqrt( rmse / len(falcon_xmatch['Adp-V'][mask_template]))\n",
    "mae = mae / len(falcon_xmatch['Adp-V'][mask_template])\n",
    "bias = np.average(falcon_xmatch['Adp-V'][mask_template] - falcon_xmatch['corv_rv_template'][mask_template])\n",
    "\n",
    "print('rmse: {:2.1f} km/s'.format(rmse))\n",
    "print('mae: {:2.1f} km/s'.format(mae))\n",
    "print('bias: {:2.1f} km/s'.format(bias))"
   ]
  },
  {
   "cell_type": "code",
   "execution_count": null,
   "metadata": {},
   "outputs": [],
   "source": [
    "for i in range(len(falcon_xmatch)):\n",
    "    if isnan(falcon_xmatch['corv_erv_template'][i]):\n",
    "        falcon_xmatch['corv_erv_template'][i] = mae"
   ]
  },
  {
   "cell_type": "code",
   "execution_count": null,
   "metadata": {
    "tags": []
   },
   "outputs": [],
   "source": [
    "plt.figure(figsize=(8,8))\n",
    "plt.style.use('stefan.mplstyle')\n",
    "\n",
    "plt.errorbar(falcon_xmatch['Adp-V'][np.abs(falcon_xmatch['corv_rv_template']) < 2500], falcon_xmatch['corv_rv_template'][np.abs(falcon_xmatch['corv_rv_template']) < 2500], \n",
    "             xerr = falcon_xmatch['e_Adp-V'][np.abs(falcon_xmatch['corv_rv_template']) < 2500], yerr = falcon_xmatch['corv_erv_template'][np.abs(falcon_xmatch['corv_rv']) < 2500],\n",
    "             fmt='o', label = 'Data', color='black', ecolor = 'teal')\n",
    "plt.plot(falcon_xmatch['vr'][np.abs(falcon_xmatch['corv_rv']) < 2500], linear(falcon_xmatch['vr'][np.abs(falcon_xmatch['corv_rv_template']) < 2500]), color = 'black')\n",
    "\n",
    "plt.text(50, -20, 'MAE = {:2.1f} km/s'.format(mae))\n",
    "plt.text(50, -40, 'Bias = {:2.1f} km/s'.format(bias))\n",
    "\n",
    "\n",
    "ymin, ymax = plt.ylim()\n",
    "plt.xlabel(r'RV (Falcon et. al, 2010) $[km/s]$')\n",
    "plt.ylabel(r'RV (corv, Koester templates) $[km/s]$')"
   ]
  },
  {
   "cell_type": "markdown",
   "metadata": {},
   "source": [
    "<a id=\"validation-betwixt\"></a>\n",
    "\n",
    "**03. Comparison Of Methods**\n",
    "\n",
    "---\n",
    "\n",
    "Finally we compare the results from `corv` using Voigt fitting versus using Koester template fitting."
   ]
  },
  {
   "cell_type": "code",
   "execution_count": null,
   "metadata": {
    "tags": []
   },
   "outputs": [],
   "source": [
    "mask = np.all([mask_template, mask_voigt], axis = 0)\n",
    "\n",
    "rmse = 0\n",
    "mae = 0\n",
    "\n",
    "for i in range(len(falcon_xmatch['corv_rv'][mask])):\n",
    "    rmse += (falcon_xmatch['corv_rv'][mask][i] - falcon_xmatch['corv_rv_template'][mask][i])**2\n",
    "    mae += np.abs(falcon_xmatch['corv_rv'][mask][i] - falcon_xmatch['corv_rv_template'][mask][i])\n",
    "    \n",
    "rmse = np.sqrt( rmse / len(falcon_xmatch['corv_rv'][mask]))\n",
    "mae = mae / len(falcon_xmatch['corv_rv'][mask])\n",
    "bias = np.average(falcon_xmatch['corv_rv'][mask] - falcon_xmatch['corv_rv_template'][mask])\n",
    "\n",
    "print('rmse: {} km/s'.format(rmse))\n",
    "print('mae: {:2.1f} km/s'.format(mae))\n",
    "print('bias: {:2.1f} km/s'.format(bias))"
   ]
  },
  {
   "cell_type": "code",
   "execution_count": null,
   "metadata": {},
   "outputs": [],
   "source": [
    "plt.figure(figsize=(8,8))\n",
    "plt.style.use('stefan.mplstyle')\n",
    "\n",
    "plt.errorbar(falcon_xmatch['corv_rv_template'], falcon_xmatch['corv_rv'], xerr=falcon_xmatch['corv_erv_template'], yerr=falcon_xmatch['corv_erv'], \n",
    "            fmt = 'o', label = 'Data', color='black', ecolor = 'teal')\n",
    "plt.plot(falcon_xmatch['corv_rv_template'], linear(falcon_xmatch['corv_rv_template']), color = 'black')\n",
    "\n",
    "plt.text(-20, 140, 'MAE = {:.1f} km/s'.format(mae))\n",
    "plt.text(-20, 120, 'Bias = {:2.1f} km/s'.format(bias))\n",
    "\n",
    "ymin, ymax = plt.ylim()\n",
    "plt.xlabel(r'RV Without Templates $[km/s]$')\n",
    "plt.ylabel(r'RV With Templates $[km/s]$')"
   ]
  },
  {
   "cell_type": "code",
   "execution_count": null,
   "metadata": {},
   "outputs": [],
   "source": []
  },
  {
   "cell_type": "code",
   "execution_count": null,
   "metadata": {},
   "outputs": [],
   "source": []
  }
 ],
 "metadata": {
  "kernelspec": {
   "display_name": "Python 3",
   "language": "python",
   "name": "python3"
  },
  "language_info": {
   "codemirror_mode": {
    "name": "ipython",
    "version": 3
   },
   "file_extension": ".py",
   "mimetype": "text/x-python",
   "name": "python",
   "nbconvert_exporter": "python",
   "pygments_lexer": "ipython3",
   "version": "3.8.3"
  }
 },
 "nbformat": 4,
 "nbformat_minor": 5
}
