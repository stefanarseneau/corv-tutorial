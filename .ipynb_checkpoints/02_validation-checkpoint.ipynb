{
 "cells": [
  {
   "cell_type": "markdown",
   "id": "73cdf80d-9636-4ef4-a49a-83be9457b400",
   "metadata": {
    "tags": []
   },
   "source": [
    "## corv: Validations Off Of Falcon et. al, 2010\n",
    "\n",
    "[GitHub Page](https://github.com/vedantchandra/corv)\n",
    "\n",
    "---\n",
    "\n",
    "Table Of Contents:\n",
    "\n",
    "1. [Validation Without Templates](#validation-no-template)\n",
    "2. [Validation With Templates](#db-no-template)\n",
    "\n",
    "---\n",
    "\n",
    "In order to establish that `corv` actually works, we can compare the radial velocities it calculates to DA radial velocities calculated from high-resolution spectra by [Falcon et.al, 2010](https://ui.adsabs.harvard.edu/abs/2010ApJ...712..585F/abstract). We use the sample of DA white dwarfs with spectra from [Chandra et.al, 2020](https://iopscience.iop.org/article/10.3847/1538-4357/aba8a2) and cross-match with the Falcon catalog based on position. Then we run `corv` on each spectrum, and compare the two."
   ]
  },
  {
   "cell_type": "markdown",
   "id": "5ef7e1ab-b500-403c-bf05-d37fd7058f1f",
   "metadata": {
    "tags": []
   },
   "source": [
    "<a id=\"validation-no-template\"></a>\n",
    "\n",
    "**01. Validating RVs Without Templates (Need to check/proofread)**\n",
    "\n",
    "---\n",
    "\n",
    "First we validate `corv` in the simplest case: without template fitting."
   ]
  },
  {
   "cell_type": "code",
   "execution_count": 1,
   "id": "60c4f872-73c7-432b-8a72-7aeb2d45224d",
   "metadata": {
    "tags": []
   },
   "outputs": [
    {
     "name": "stdout",
     "output_type": "stream",
     "text": [
      "/Users/vedantchandra/0_research/01_sdss5/006_build_corv/data/comm_cat/\n",
      "star and exposure catalogs not found! check paths and run make_catalogs() if you want to use sdss functionality. otherwise ignore.\n"
     ]
    }
   ],
   "source": [
    "### General\n",
    "import numpy as np\n",
    "import matplotlib.pyplot as plt\n",
    "\n",
    "from astropy.table import Table, Column, MaskedColumn, join\n",
    "from astroquery.sdss import SDSS\n",
    "\n",
    "from tqdm import tqdm\n",
    "\n",
    "import corv\n",
    "#corv.sdss.make_catalogs()"
   ]
  },
  {
   "cell_type": "code",
   "execution_count": 2,
   "id": "af1f2de8-e67f-4b05-b11b-4b2f0d35724d",
   "metadata": {
    "tags": []
   },
   "outputs": [],
   "source": [
    "# Read in the catalogs for comparison\n",
    "catalog = Table.read('data/sed_radii.fits')\n",
    "falcon = Table.read('data/falcon2010.fit')\n",
    "\n",
    "# Initialize the corv rv arrays\n",
    "catalog['corv_rv'] = -9999 * np.ones(len(catalog))\n",
    "catalog['corv_erv'] = -9999 * np.ones(len(catalog))"
   ]
  },
  {
   "cell_type": "code",
   "execution_count": 3,
   "id": "968a55c9-a700-4c0d-ab9d-38886c4748fc",
   "metadata": {
    "tags": []
   },
   "outputs": [],
   "source": [
    "from astropy.coordinates import SkyCoord\n",
    "import astropy.units as u\n",
    "from astropy.table import  join_skycoord\n",
    "from astropy import table\n",
    "\n",
    "# Create a column with SkyCoord positions for easy matching\n",
    "catalog['wd_pos'] = SkyCoord(catalog['ra'], catalog['dec'], unit='deg')\n",
    "falcon['wd_pos'] = SkyCoord(falcon['_RA'], falcon['_DE'], unit='deg')\n",
    "\n",
    "# Match Falcon's and Vedant's catalogs by taking targets within 5 arcsec\n",
    "join_func = table.join_skycoord(5 * u.arcsecond)\n",
    "falcon_xmatch = table.join(catalog, falcon, join_funcs={'wd_pos': join_skycoord(5 * u.arcsec)})"
   ]
  },
  {
   "cell_type": "code",
   "execution_count": 4,
   "id": "72457964-f759-45f5-a7d0-3c8d5a55e1cd",
   "metadata": {
    "tags": []
   },
   "outputs": [
    {
     "name": "stderr",
     "output_type": "stream",
     "text": [
      "  0%|                                                                                            | 0/97 [00:00<?, ?it/s]/home/arseneau/anaconda3/lib/python3.9/site-packages/astroquery/sdss/core.py:874: VisibleDeprecationWarning: Reading unicode strings without specifying the encoding argument is deprecated. Set the encoding, use None for the system default.\n",
      "  arr = np.atleast_1d(np.genfromtxt(io.BytesIO(response.content),\n",
      "Traceback (most recent call last):\n",
      "  File \"/home/arseneau/anaconda3/lib/python3.9/site-packages/emcee/ensemble.py\", line 624, in __call__\n",
      "    return self.f(x, *self.args, **self.kwargs)\n",
      "  File \"/home/arseneau/anaconda3/lib/python3.9/site-packages/lmfit/minimizer.py\", line 1120, in _lnprob\n",
      "    out = userfcn(params, *userargs, **userkwargs)\n",
      "  File \"/home/arseneau/anaconda3/lib/python3.9/site-packages/corv-0.1-py3.9.egg/corv/fit.py\", line 173, in <lambda>\n",
      "    residual = lambda params: normalized_residual(wl, fl, ivar,\n",
      "  File \"/home/arseneau/anaconda3/lib/python3.9/site-packages/corv-0.1-py3.9.egg/corv/fit.py\", line 46, in normalized_residual\n",
      "    _,nmodel = models.get_normalized_model(wl, corvmodel, params)\n",
      "  File \"/home/arseneau/anaconda3/lib/python3.9/site-packages/corv-0.1-py3.9.egg/corv/models.py\", line 225, in get_normalized_model\n",
      "    flux = corvmodel.eval(params, x = wl)\n",
      "  File \"/home/arseneau/anaconda3/lib/python3.9/site-packages/lmfit/model.py\", line 1161, in eval\n",
      "    return self.op(self.left.eval(params=params, **kwargs),\n",
      "  File \"/home/arseneau/anaconda3/lib/python3.9/site-packages/lmfit/model.py\", line 1161, in eval\n",
      "    return self.op(self.left.eval(params=params, **kwargs),\n",
      "  File \"/home/arseneau/anaconda3/lib/python3.9/site-packages/lmfit/model.py\", line 1162, in eval\n",
      "    self.right.eval(params=params, **kwargs))\n",
      "  File \"/home/arseneau/anaconda3/lib/python3.9/site-packages/lmfit/model.py\", line 871, in eval\n",
      "    return self.func(**self.make_funcargs(params, kwargs))\n",
      "  File \"/home/arseneau/anaconda3/lib/python3.9/site-packages/lmfit/lineshapes.py\", line 117, in voigt\n",
      "    return amplitude*wofz(z).real / max(tiny, (sigma*s2pi))\n",
      "KeyboardInterrupt\n",
      "  0%|                                                                                            | 0/97 [00:08<?, ?it/s]"
     ]
    },
    {
     "name": "stdout",
     "output_type": "stream",
     "text": [
      "emcee: Exception while calling your likelihood function:\n",
      "  params: [8.71742883e+01 1.00001992e-02]\n",
      "  args: (<function fit_rv.<locals>.<lambda> at 0x7f87dcb45dc0>, Parameters([('c', <Parameter 'c', value=0.9246038166171139 (fixed), bounds=[-inf:inf]>), ('a0_amplitude', <Parameter 'a0_amplitude', value=12.579217955550149 (fixed), bounds=[0:inf]>), ('a0_center', <Parameter 'a0_center', value=6566.519148865587, bounds=[-inf:inf], expr='6564.61/ sqrt((1 - RV/2.99792458e5)/(1 + RV/2.99792458e5))'>), ('a0_sigma', <Parameter 'a0_sigma', value=15.502554578699243 (fixed), bounds=[0:inf]>), ('a1_amplitude', <Parameter 'a1_amplitude', value=2.104187100976411 (fixed), bounds=[0:inf]>), ('a1_center', <Parameter 'a1_center', value=6566.519148865587, bounds=[-inf:inf], expr='a0_center'>), ('a1_sigma', <Parameter 'a1_sigma', value=4.30523904600564 (fixed), bounds=[0:inf]>), ('b0_amplitude', <Parameter 'b0_amplitude', value=3.0640429801614024 (fixed), bounds=[0:inf]>), ('b0_center', <Parameter 'b0_center', value=4864.094186068284, bounds=[-inf:inf], expr='4862.68/ sqrt((1 - RV/2.99792458e5)/(1 + RV/2.99792458e5))'>), ('b0_sigma', <Parameter 'b0_sigma', value=5.087497158446471 (fixed), bounds=[0:inf]>), ('b1_amplitude', <Parameter 'b1_amplitude', value=17.912694114725696 (fixed), bounds=[0:inf]>), ('b1_center', <Parameter 'b1_center', value=4864.094186068284, bounds=[-inf:inf], expr='b0_center'>), ('b1_sigma', <Parameter 'b1_sigma', value=19.552408945217106 (fixed), bounds=[0:inf]>), ('g0_amplitude', <Parameter 'g0_amplitude', value=17.085702810647152 (fixed), bounds=[0:inf]>), ('g0_center', <Parameter 'g0_center', value=4342.9426665478595, bounds=[-inf:inf], expr='4341.68/ sqrt((1 - RV/2.99792458e5)/(1 + RV/2.99792458e5))'>), ('g0_sigma', <Parameter 'g0_sigma', value=18.19662216955211 (fixed), bounds=[0:inf]>), ('g1_amplitude', <Parameter 'g1_amplitude', value=2.6142914207186068 (fixed), bounds=[0:inf]>), ('g1_center', <Parameter 'g1_center', value=4342.9426665478595, bounds=[-inf:inf], expr='g0_center'>), ('g1_sigma', <Parameter 'g1_sigma', value=4.364428428278995 (fixed), bounds=[0:inf]>), ('d0_amplitude', <Parameter 'd0_amplitude', value=1.9219775002786244 (fixed), bounds=[0:inf]>), ('d0_center', <Parameter 'd0_center', value=4104.083220585706, bounds=[-inf:inf], expr='4102.89/ sqrt((1 - RV/2.99792458e5)/(1 + RV/2.99792458e5))'>), ('d0_sigma', <Parameter 'd0_sigma', value=4.8158539571113534 (fixed), bounds=[0:inf]>), ('d1_amplitude', <Parameter 'd1_amplitude', value=13.39967737179595 (fixed), bounds=[0:inf]>), ('d1_center', <Parameter 'd1_center', value=4104.083220585706, bounds=[-inf:inf], expr='d0_center'>), ('d1_sigma', <Parameter 'd1_sigma', value=15.734163188835439 (fixed), bounds=[0:inf]>), ('a0_gamma', <Parameter 'a0_gamma', value=15.502554578699243, bounds=[-inf:inf], expr='a0_sigma'>), ('a0_fwhm', <Parameter 'a0_fwhm', value=55.8292046722702, bounds=[-inf:inf], expr='1.0692*a0_gamma+sqrt(0.8664*a0_gamma**2+5.545083*a0_sigma**2)'>), ('a0_height', <Parameter 'a0_height', value=0.1693527034969516, bounds=[-inf:inf], expr='(a0_amplitude/(max(1e-15, a0_sigma*sqrt(2*pi))))*wofz((1j*a0_gamma)/(max(1e-15, a0_sigma*sqrt(2)))).real'>), ('a1_gamma', <Parameter 'a1_gamma', value=4.30523904600564, bounds=[-inf:inf], expr='a1_sigma'>), ('a1_fwhm', <Parameter 'a1_fwhm', value=15.504417071542129, bounds=[-inf:inf], expr='1.0692*a1_gamma+sqrt(0.8664*a1_gamma**2+5.545083*a1_sigma**2)'>), ('a1_height', <Parameter 'a1_height', value=0.10200673440711189, bounds=[-inf:inf], expr='(a1_amplitude/(max(1e-15, a1_sigma*sqrt(2*pi))))*wofz((1j*a1_gamma)/(max(1e-15, a1_sigma*sqrt(2)))).real'>), ('b0_gamma', <Parameter 'b0_gamma', value=5.087497158446471, bounds=[-inf:inf], expr='b0_sigma'>), ('b0_fwhm', <Parameter 'b0_fwhm', value=18.321555888522017, bounds=[-inf:inf], expr='1.0692*b0_gamma+sqrt(0.8664*b0_gamma**2+5.545083*b0_sigma**2)'>), ('b0_height', <Parameter 'b0_height', value=0.1256991770130535, bounds=[-inf:inf], expr='(b0_amplitude/(max(1e-15, b0_sigma*sqrt(2*pi))))*wofz((1j*b0_gamma)/(max(1e-15, b0_sigma*sqrt(2)))).real'>), ('b1_gamma', <Parameter 'b1_gamma', value=19.552408945217106, bounds=[-inf:inf], expr='b1_sigma'>), ('b1_fwhm', <Parameter 'b1_fwhm', value=70.41390728843632, bounds=[-inf:inf], expr='1.0692*b1_gamma+sqrt(0.8664*b1_gamma**2+5.545083*b1_sigma**2)'>), ('b1_height', <Parameter 'b1_height', value=0.19120638849876068, bounds=[-inf:inf], expr='(b1_amplitude/(max(1e-15, b1_sigma*sqrt(2*pi))))*wofz((1j*b1_gamma)/(max(1e-15, b1_sigma*sqrt(2)))).real'>), ('g0_gamma', <Parameter 'g0_gamma', value=18.19662216955211, bounds=[-inf:inf], expr='g0_sigma'>), ('g0_fwhm', <Parameter 'g0_fwhm', value=65.5313250658547, bounds=[-inf:inf], expr='1.0692*g0_gamma+sqrt(0.8664*g0_gamma**2+5.545083*g0_sigma**2)'>), ('g0_height', <Parameter 'g0_height', value=0.19596740029925916, bounds=[-inf:inf], expr='(g0_amplitude/(max(1e-15, g0_sigma*sqrt(2*pi))))*wofz((1j*g0_gamma)/(max(1e-15, g0_sigma*sqrt(2)))).real'>), ('g1_gamma', <Parameter 'g1_gamma', value=4.364428428278995, bounds=[-inf:inf], expr='g1_sigma'>), ('g1_fwhm', <Parameter 'g1_fwhm', value=15.717575239803303, bounds=[-inf:inf], expr='1.0692*g1_gamma+sqrt(0.8664*g1_gamma**2+5.545083*g1_sigma**2)'>), ('g1_height', <Parameter 'g1_height', value=0.1250168012730833, bounds=[-inf:inf], expr='(g1_amplitude/(max(1e-15, g1_sigma*sqrt(2*pi))))*wofz((1j*g1_gamma)/(max(1e-15, g1_sigma*sqrt(2)))).real'>), ('d0_gamma', <Parameter 'd0_gamma', value=4.8158539571113534, bounds=[-inf:inf], expr='d0_sigma'>), ('d0_fwhm', <Parameter 'd0_fwhm', value=17.343289770626406, bounds=[-inf:inf], expr='1.0692*d0_gamma+sqrt(0.8664*d0_gamma**2+5.545083*d0_sigma**2)'>), ('d0_height', <Parameter 'd0_height', value=0.08329458177757847, bounds=[-inf:inf], expr='(d0_amplitude/(max(1e-15, d0_sigma*sqrt(2*pi))))*wofz((1j*d0_gamma)/(max(1e-15, d0_sigma*sqrt(2)))).real'>), ('d1_gamma', <Parameter 'd1_gamma', value=15.734163188835439, bounds=[-inf:inf], expr='d1_sigma'>), ('d1_fwhm', <Parameter 'd1_fwhm', value=56.66329459167744, bounds=[-inf:inf], expr='1.0692*d1_gamma+sqrt(0.8664*d1_gamma**2+5.545083*d1_sigma**2)'>), ('d1_height', <Parameter 'd1_height', value=0.17774297812399753, bounds=[-inf:inf], expr='(d1_amplitude/(max(1e-15, d1_sigma*sqrt(2*pi))))*wofz((1j*d1_gamma)/(max(1e-15, d1_sigma*sqrt(2)))).real'>), ('RV', <Parameter 'RV', value=87.17428829083056, bounds=[-2500:2500]>), ('__lnsigma', <Parameter '__lnsigma', value=0.01000019924609548, bounds=[-inf:inf]>)]), ['RV', '__lnsigma'], array([[-2500.,  2500.],\n",
      "       [  -inf,    inf]]))\n",
      "  kwargs: {'is_weighted': False, 'float_behavior': 'chi2', 'userargs': [], 'userkws': {}, 'nan_policy': 'omit'}\n",
      "  exception:\n"
     ]
    },
    {
     "name": "stderr",
     "output_type": "stream",
     "text": [
      "\n"
     ]
    },
    {
     "ename": "KeyboardInterrupt",
     "evalue": "",
     "output_type": "error",
     "traceback": [
      "\u001b[0;31m---------------------------------------------------------------------------\u001b[0m",
      "\u001b[0;31mKeyboardInterrupt\u001b[0m                         Traceback (most recent call last)",
      "Cell \u001b[0;32mIn[4], line 18\u001b[0m\n\u001b[1;32m     16\u001b[0m \u001b[38;5;66;03m# Make & fit a corv model without templates\u001b[39;00m\n\u001b[1;32m     17\u001b[0m corvmodel \u001b[38;5;241m=\u001b[39m corv\u001b[38;5;241m.\u001b[39mmodels\u001b[38;5;241m.\u001b[39mmake_balmer_model(names \u001b[38;5;241m=\u001b[39m [\u001b[38;5;124m'\u001b[39m\u001b[38;5;124ma\u001b[39m\u001b[38;5;124m'\u001b[39m,\u001b[38;5;124m'\u001b[39m\u001b[38;5;124mb\u001b[39m\u001b[38;5;124m'\u001b[39m,\u001b[38;5;124m'\u001b[39m\u001b[38;5;124mg\u001b[39m\u001b[38;5;124m'\u001b[39m,\u001b[38;5;124m'\u001b[39m\u001b[38;5;124md\u001b[39m\u001b[38;5;124m'\u001b[39m], nvoigt \u001b[38;5;241m=\u001b[39m \u001b[38;5;241m2\u001b[39m)\n\u001b[0;32m---> 18\u001b[0m param_res, rv_res, rv_init \u001b[38;5;241m=\u001b[39m \u001b[43mcorv\u001b[49m\u001b[38;5;241;43m.\u001b[39;49m\u001b[43mfit\u001b[49m\u001b[38;5;241;43m.\u001b[39;49m\u001b[43mfit_corv\u001b[49m\u001b[43m(\u001b[49m\u001b[43mwl\u001b[49m\u001b[43m,\u001b[49m\u001b[43m \u001b[49m\u001b[43mfl\u001b[49m\u001b[43m,\u001b[49m\u001b[43m \u001b[49m\u001b[43mivar\u001b[49m\u001b[43m,\u001b[49m\u001b[43m \u001b[49m\u001b[43mcorvmodel\u001b[49m\u001b[43m)\u001b[49m        \n\u001b[1;32m     20\u001b[0m \u001b[38;5;66;03m# Add that to the list\u001b[39;00m\n\u001b[1;32m     21\u001b[0m falcon_xmatch[\u001b[38;5;124m'\u001b[39m\u001b[38;5;124mcorv_rv\u001b[39m\u001b[38;5;124m'\u001b[39m][j] \u001b[38;5;241m=\u001b[39m (rv_res\u001b[38;5;241m.\u001b[39mparams[\u001b[38;5;124m'\u001b[39m\u001b[38;5;124mRV\u001b[39m\u001b[38;5;124m'\u001b[39m]\u001b[38;5;241m.\u001b[39mvalue)\n",
      "File \u001b[0;32m~/anaconda3/lib/python3.9/site-packages/corv-0.1-py3.9.egg/corv/fit.py:246\u001b[0m, in \u001b[0;36mfit_corv\u001b[0;34m(wl, fl, ivar, corvmodel, xcorr_kw, iter_teff, tpar, teff)\u001b[0m\n\u001b[1;32m    242\u001b[0m     param_res \u001b[38;5;241m=\u001b[39m lmfit\u001b[38;5;241m.\u001b[39mminimize(residual, params)\n\u001b[1;32m    244\u001b[0m bestparams \u001b[38;5;241m=\u001b[39m param_res\u001b[38;5;241m.\u001b[39mparams\u001b[38;5;241m.\u001b[39mcopy()\n\u001b[0;32m--> 246\u001b[0m rv_res, rv_init \u001b[38;5;241m=\u001b[39m \u001b[43mfit_rv\u001b[49m\u001b[43m(\u001b[49m\u001b[43mwl\u001b[49m\u001b[43m,\u001b[49m\u001b[43m \u001b[49m\u001b[43mfl\u001b[49m\u001b[43m,\u001b[49m\u001b[43m \u001b[49m\u001b[43mivar\u001b[49m\u001b[43m,\u001b[49m\u001b[43m \u001b[49m\u001b[43mcorvmodel\u001b[49m\u001b[43m,\u001b[49m\u001b[43m \u001b[49m\u001b[43mbestparams\u001b[49m\u001b[43m,\u001b[49m\u001b[43m \u001b[49m\u001b[38;5;241;43m*\u001b[39;49m\u001b[38;5;241;43m*\u001b[39;49m\u001b[43mxcorr_kw\u001b[49m\u001b[43m)\u001b[49m\n\u001b[1;32m    248\u001b[0m \u001b[38;5;28;01mreturn\u001b[39;00m param_res, rv_res, rv_init\n",
      "File \u001b[0;32m~/anaconda3/lib/python3.9/site-packages/corv-0.1-py3.9.egg/corv/fit.py:179\u001b[0m, in \u001b[0;36mfit_rv\u001b[0;34m(wl, fl, ivar, corvmodel, params, fix_nonrv, xcorr_kw)\u001b[0m\n\u001b[1;32m    173\u001b[0m residual \u001b[38;5;241m=\u001b[39m \u001b[38;5;28;01mlambda\u001b[39;00m params: normalized_residual(wl, fl, ivar, \n\u001b[1;32m    174\u001b[0m                                               corvmodel, params)\n\u001b[1;32m    176\u001b[0m emcee_kws \u001b[38;5;241m=\u001b[39m \u001b[38;5;28mdict\u001b[39m(steps\u001b[38;5;241m=\u001b[39m\u001b[38;5;241m1000\u001b[39m, burn\u001b[38;5;241m=\u001b[39m\u001b[38;5;241m500\u001b[39m, thin\u001b[38;5;241m=\u001b[39m\u001b[38;5;241m20\u001b[39m, is_weighted\u001b[38;5;241m=\u001b[39m\u001b[38;5;28;01mFalse\u001b[39;00m,\n\u001b[1;32m    177\u001b[0m              progress\u001b[38;5;241m=\u001b[39m\u001b[38;5;28;01mFalse\u001b[39;00m)\n\u001b[0;32m--> 179\u001b[0m res \u001b[38;5;241m=\u001b[39m \u001b[43mlmfit\u001b[49m\u001b[38;5;241;43m.\u001b[39;49m\u001b[43mminimize\u001b[49m\u001b[43m(\u001b[49m\u001b[43mresidual\u001b[49m\u001b[43m,\u001b[49m\u001b[43m \u001b[49m\u001b[43mparams\u001b[49m\u001b[43m,\u001b[49m\u001b[43m \u001b[49m\u001b[43mmethod\u001b[49m\u001b[38;5;241;43m=\u001b[39;49m\u001b[38;5;124;43m'\u001b[39;49m\u001b[38;5;124;43memcee\u001b[39;49m\u001b[38;5;124;43m'\u001b[39;49m\u001b[43m,\u001b[49m\n\u001b[1;32m    180\u001b[0m \u001b[43m                     \u001b[49m\u001b[43mnan_policy\u001b[49m\u001b[38;5;241;43m=\u001b[39;49m\u001b[38;5;124;43m'\u001b[39;49m\u001b[38;5;124;43momit\u001b[39;49m\u001b[38;5;124;43m'\u001b[39;49m\u001b[43m,\u001b[49m\u001b[43m \u001b[49m\u001b[43msteps\u001b[49m\u001b[38;5;241;43m=\u001b[39;49m\u001b[38;5;241;43m1000\u001b[39;49m\u001b[43m,\u001b[49m\u001b[43m \u001b[49m\u001b[43mburn\u001b[49m\u001b[38;5;241;43m=\u001b[39;49m\u001b[38;5;241;43m500\u001b[39;49m\u001b[43m,\u001b[49m\u001b[43m \u001b[49m\u001b[43mthin\u001b[49m\u001b[38;5;241;43m=\u001b[39;49m\u001b[38;5;241;43m20\u001b[39;49m\u001b[43m,\u001b[49m\u001b[43m \u001b[49m\n\u001b[1;32m    181\u001b[0m \u001b[43m                     \u001b[49m\u001b[43mis_weighted\u001b[49m\u001b[38;5;241;43m=\u001b[39;49m\u001b[38;5;28;43;01mFalse\u001b[39;49;00m\u001b[43m,\u001b[49m\u001b[43m \u001b[49m\u001b[43mprogress\u001b[49m\u001b[38;5;241;43m=\u001b[39;49m\u001b[38;5;28;43;01mFalse\u001b[39;49;00m\u001b[43m,\u001b[49m\u001b[43m \u001b[49m\u001b[43mfloat_behavior\u001b[49m\u001b[43m \u001b[49m\u001b[38;5;241;43m=\u001b[39;49m\u001b[43m \u001b[49m\u001b[38;5;124;43m'\u001b[39;49m\u001b[38;5;124;43mchi2\u001b[39;49m\u001b[38;5;124;43m'\u001b[39;49m\u001b[43m)\u001b[49m\n\u001b[1;32m    183\u001b[0m \u001b[38;5;28;01mreturn\u001b[39;00m res, rv_init\n",
      "File \u001b[0;32m~/anaconda3/lib/python3.9/site-packages/lmfit/minimizer.py:2600\u001b[0m, in \u001b[0;36mminimize\u001b[0;34m(fcn, params, method, args, kws, iter_cb, scale_covar, nan_policy, reduce_fcn, calc_covar, max_nfev, **fit_kws)\u001b[0m\n\u001b[1;32m   2460\u001b[0m \u001b[38;5;250m\u001b[39m\u001b[38;5;124;03m\"\"\"Perform the minimization of the objective function.\u001b[39;00m\n\u001b[1;32m   2461\u001b[0m \n\u001b[1;32m   2462\u001b[0m \u001b[38;5;124;03mThe minimize function takes an objective function to be minimized,\u001b[39;00m\n\u001b[0;32m   (...)\u001b[0m\n\u001b[1;32m   2594\u001b[0m \n\u001b[1;32m   2595\u001b[0m \u001b[38;5;124;03m\"\"\"\u001b[39;00m\n\u001b[1;32m   2596\u001b[0m fitter \u001b[38;5;241m=\u001b[39m Minimizer(fcn, params, fcn_args\u001b[38;5;241m=\u001b[39margs, fcn_kws\u001b[38;5;241m=\u001b[39mkws,\n\u001b[1;32m   2597\u001b[0m                    iter_cb\u001b[38;5;241m=\u001b[39miter_cb, scale_covar\u001b[38;5;241m=\u001b[39mscale_covar,\n\u001b[1;32m   2598\u001b[0m                    nan_policy\u001b[38;5;241m=\u001b[39mnan_policy, reduce_fcn\u001b[38;5;241m=\u001b[39mreduce_fcn,\n\u001b[1;32m   2599\u001b[0m                    calc_covar\u001b[38;5;241m=\u001b[39mcalc_covar, max_nfev\u001b[38;5;241m=\u001b[39mmax_nfev, \u001b[38;5;241m*\u001b[39m\u001b[38;5;241m*\u001b[39mfit_kws)\n\u001b[0;32m-> 2600\u001b[0m \u001b[38;5;28;01mreturn\u001b[39;00m \u001b[43mfitter\u001b[49m\u001b[38;5;241;43m.\u001b[39;49m\u001b[43mminimize\u001b[49m\u001b[43m(\u001b[49m\u001b[43mmethod\u001b[49m\u001b[38;5;241;43m=\u001b[39;49m\u001b[43mmethod\u001b[49m\u001b[43m)\u001b[49m\n",
      "File \u001b[0;32m~/anaconda3/lib/python3.9/site-packages/lmfit/minimizer.py:2369\u001b[0m, in \u001b[0;36mMinimizer.minimize\u001b[0;34m(self, method, params, **kws)\u001b[0m\n\u001b[1;32m   2366\u001b[0m         \u001b[38;5;28;01mif\u001b[39;00m (key\u001b[38;5;241m.\u001b[39mlower()\u001b[38;5;241m.\u001b[39mstartswith(user_method) \u001b[38;5;129;01mor\u001b[39;00m\n\u001b[1;32m   2367\u001b[0m                 val\u001b[38;5;241m.\u001b[39mlower()\u001b[38;5;241m.\u001b[39mstartswith(user_method)):\n\u001b[1;32m   2368\u001b[0m             kwargs[\u001b[38;5;124m'\u001b[39m\u001b[38;5;124mmethod\u001b[39m\u001b[38;5;124m'\u001b[39m] \u001b[38;5;241m=\u001b[39m val\n\u001b[0;32m-> 2369\u001b[0m \u001b[38;5;28;01mreturn\u001b[39;00m \u001b[43mfunction\u001b[49m\u001b[43m(\u001b[49m\u001b[38;5;241;43m*\u001b[39;49m\u001b[38;5;241;43m*\u001b[39;49m\u001b[43mkwargs\u001b[49m\u001b[43m)\u001b[49m\n",
      "File \u001b[0;32m~/anaconda3/lib/python3.9/site-packages/lmfit/minimizer.py:1457\u001b[0m, in \u001b[0;36mMinimizer.emcee\u001b[0;34m(self, params, steps, nwalkers, burn, thin, ntemps, pos, reuse_sampler, workers, float_behavior, is_weighted, seed, progress, run_mcmc_kwargs)\u001b[0m\n\u001b[1;32m   1455\u001b[0m \u001b[38;5;66;03m# now do a production run, sampling all the time\u001b[39;00m\n\u001b[1;32m   1456\u001b[0m \u001b[38;5;28;01mtry\u001b[39;00m:\n\u001b[0;32m-> 1457\u001b[0m     output \u001b[38;5;241m=\u001b[39m \u001b[38;5;28;43mself\u001b[39;49m\u001b[38;5;241;43m.\u001b[39;49m\u001b[43msampler\u001b[49m\u001b[38;5;241;43m.\u001b[39;49m\u001b[43mrun_mcmc\u001b[49m\u001b[43m(\u001b[49m\u001b[43mp0\u001b[49m\u001b[43m,\u001b[49m\u001b[43m \u001b[49m\u001b[43msteps\u001b[49m\u001b[43m,\u001b[49m\u001b[43m \u001b[49m\u001b[43mprogress\u001b[49m\u001b[38;5;241;43m=\u001b[39;49m\u001b[43mprogress\u001b[49m\u001b[43m,\u001b[49m\u001b[43m \u001b[49m\u001b[38;5;241;43m*\u001b[39;49m\u001b[38;5;241;43m*\u001b[39;49m\u001b[43mrun_mcmc_kwargs\u001b[49m\u001b[43m)\u001b[49m\n\u001b[1;32m   1458\u001b[0m     \u001b[38;5;28mself\u001b[39m\u001b[38;5;241m.\u001b[39m_lastpos \u001b[38;5;241m=\u001b[39m output\u001b[38;5;241m.\u001b[39mcoords\n\u001b[1;32m   1459\u001b[0m \u001b[38;5;28;01mexcept\u001b[39;00m AbortFitException:\n",
      "File \u001b[0;32m~/anaconda3/lib/python3.9/site-packages/emcee/ensemble.py:443\u001b[0m, in \u001b[0;36mEnsembleSampler.run_mcmc\u001b[0;34m(self, initial_state, nsteps, **kwargs)\u001b[0m\n\u001b[1;32m    440\u001b[0m     initial_state \u001b[38;5;241m=\u001b[39m \u001b[38;5;28mself\u001b[39m\u001b[38;5;241m.\u001b[39m_previous_state\n\u001b[1;32m    442\u001b[0m results \u001b[38;5;241m=\u001b[39m \u001b[38;5;28;01mNone\u001b[39;00m\n\u001b[0;32m--> 443\u001b[0m \u001b[38;5;28;01mfor\u001b[39;00m results \u001b[38;5;129;01min\u001b[39;00m \u001b[38;5;28mself\u001b[39m\u001b[38;5;241m.\u001b[39msample(initial_state, iterations\u001b[38;5;241m=\u001b[39mnsteps, \u001b[38;5;241m*\u001b[39m\u001b[38;5;241m*\u001b[39mkwargs):\n\u001b[1;32m    444\u001b[0m     \u001b[38;5;28;01mpass\u001b[39;00m\n\u001b[1;32m    446\u001b[0m \u001b[38;5;66;03m# Store so that the ``initial_state=None`` case will work\u001b[39;00m\n",
      "File \u001b[0;32m~/anaconda3/lib/python3.9/site-packages/emcee/ensemble.py:402\u001b[0m, in \u001b[0;36mEnsembleSampler.sample\u001b[0;34m(self, initial_state, log_prob0, rstate0, blobs0, iterations, tune, skip_initial_state_check, thin_by, thin, store, progress, progress_kwargs)\u001b[0m\n\u001b[1;32m    399\u001b[0m move \u001b[38;5;241m=\u001b[39m \u001b[38;5;28mself\u001b[39m\u001b[38;5;241m.\u001b[39m_random\u001b[38;5;241m.\u001b[39mchoice(\u001b[38;5;28mself\u001b[39m\u001b[38;5;241m.\u001b[39m_moves, p\u001b[38;5;241m=\u001b[39m\u001b[38;5;28mself\u001b[39m\u001b[38;5;241m.\u001b[39m_weights)\n\u001b[1;32m    401\u001b[0m \u001b[38;5;66;03m# Propose\u001b[39;00m\n\u001b[0;32m--> 402\u001b[0m state, accepted \u001b[38;5;241m=\u001b[39m \u001b[43mmove\u001b[49m\u001b[38;5;241;43m.\u001b[39;49m\u001b[43mpropose\u001b[49m\u001b[43m(\u001b[49m\u001b[43mmodel\u001b[49m\u001b[43m,\u001b[49m\u001b[43m \u001b[49m\u001b[43mstate\u001b[49m\u001b[43m)\u001b[49m\n\u001b[1;32m    403\u001b[0m state\u001b[38;5;241m.\u001b[39mrandom_state \u001b[38;5;241m=\u001b[39m \u001b[38;5;28mself\u001b[39m\u001b[38;5;241m.\u001b[39mrandom_state\n\u001b[1;32m    405\u001b[0m \u001b[38;5;28;01mif\u001b[39;00m tune:\n",
      "File \u001b[0;32m~/anaconda3/lib/python3.9/site-packages/emcee/moves/red_blue.py:93\u001b[0m, in \u001b[0;36mRedBlueMove.propose\u001b[0;34m(self, model, state)\u001b[0m\n\u001b[1;32m     90\u001b[0m q, factors \u001b[38;5;241m=\u001b[39m \u001b[38;5;28mself\u001b[39m\u001b[38;5;241m.\u001b[39mget_proposal(s, c, model\u001b[38;5;241m.\u001b[39mrandom)\n\u001b[1;32m     92\u001b[0m \u001b[38;5;66;03m# Compute the lnprobs of the proposed position.\u001b[39;00m\n\u001b[0;32m---> 93\u001b[0m new_log_probs, new_blobs \u001b[38;5;241m=\u001b[39m \u001b[43mmodel\u001b[49m\u001b[38;5;241;43m.\u001b[39;49m\u001b[43mcompute_log_prob_fn\u001b[49m\u001b[43m(\u001b[49m\u001b[43mq\u001b[49m\u001b[43m)\u001b[49m\n\u001b[1;32m     95\u001b[0m \u001b[38;5;66;03m# Loop over the walkers and update them accordingly.\u001b[39;00m\n\u001b[1;32m     96\u001b[0m \u001b[38;5;28;01mfor\u001b[39;00m i, (j, f, nlp) \u001b[38;5;129;01min\u001b[39;00m \u001b[38;5;28menumerate\u001b[39m(\n\u001b[1;32m     97\u001b[0m     \u001b[38;5;28mzip\u001b[39m(all_inds[S1], factors, new_log_probs)\n\u001b[1;32m     98\u001b[0m ):\n",
      "File \u001b[0;32m~/anaconda3/lib/python3.9/site-packages/emcee/ensemble.py:489\u001b[0m, in \u001b[0;36mEnsembleSampler.compute_log_prob\u001b[0;34m(self, coords)\u001b[0m\n\u001b[1;32m    487\u001b[0m     \u001b[38;5;28;01melse\u001b[39;00m:\n\u001b[1;32m    488\u001b[0m         map_func \u001b[38;5;241m=\u001b[39m \u001b[38;5;28mmap\u001b[39m\n\u001b[0;32m--> 489\u001b[0m     results \u001b[38;5;241m=\u001b[39m \u001b[38;5;28;43mlist\u001b[39;49m\u001b[43m(\u001b[49m\u001b[43mmap_func\u001b[49m\u001b[43m(\u001b[49m\u001b[38;5;28;43mself\u001b[39;49m\u001b[38;5;241;43m.\u001b[39;49m\u001b[43mlog_prob_fn\u001b[49m\u001b[43m,\u001b[49m\u001b[43m \u001b[49m\u001b[43mp\u001b[49m\u001b[43m)\u001b[49m\u001b[43m)\u001b[49m\n\u001b[1;32m    491\u001b[0m \u001b[38;5;28;01mtry\u001b[39;00m:\n\u001b[1;32m    492\u001b[0m     log_prob \u001b[38;5;241m=\u001b[39m np\u001b[38;5;241m.\u001b[39marray([\u001b[38;5;28mfloat\u001b[39m(l[\u001b[38;5;241m0\u001b[39m]) \u001b[38;5;28;01mfor\u001b[39;00m l \u001b[38;5;129;01min\u001b[39;00m results])\n",
      "File \u001b[0;32m~/anaconda3/lib/python3.9/site-packages/emcee/ensemble.py:624\u001b[0m, in \u001b[0;36m_FunctionWrapper.__call__\u001b[0;34m(self, x)\u001b[0m\n\u001b[1;32m    622\u001b[0m \u001b[38;5;28;01mdef\u001b[39;00m \u001b[38;5;21m__call__\u001b[39m(\u001b[38;5;28mself\u001b[39m, x):\n\u001b[1;32m    623\u001b[0m     \u001b[38;5;28;01mtry\u001b[39;00m:\n\u001b[0;32m--> 624\u001b[0m         \u001b[38;5;28;01mreturn\u001b[39;00m \u001b[38;5;28;43mself\u001b[39;49m\u001b[38;5;241;43m.\u001b[39;49m\u001b[43mf\u001b[49m\u001b[43m(\u001b[49m\u001b[43mx\u001b[49m\u001b[43m,\u001b[49m\u001b[43m \u001b[49m\u001b[38;5;241;43m*\u001b[39;49m\u001b[38;5;28;43mself\u001b[39;49m\u001b[38;5;241;43m.\u001b[39;49m\u001b[43margs\u001b[49m\u001b[43m,\u001b[49m\u001b[43m \u001b[49m\u001b[38;5;241;43m*\u001b[39;49m\u001b[38;5;241;43m*\u001b[39;49m\u001b[38;5;28;43mself\u001b[39;49m\u001b[38;5;241;43m.\u001b[39;49m\u001b[43mkwargs\u001b[49m\u001b[43m)\u001b[49m\n\u001b[1;32m    625\u001b[0m     \u001b[38;5;28;01mexcept\u001b[39;00m:  \u001b[38;5;66;03m# pragma: no cover\u001b[39;00m\n\u001b[1;32m    626\u001b[0m         \u001b[38;5;28;01mimport\u001b[39;00m \u001b[38;5;21;01mtraceback\u001b[39;00m\n",
      "File \u001b[0;32m~/anaconda3/lib/python3.9/site-packages/lmfit/minimizer.py:1120\u001b[0m, in \u001b[0;36mMinimizer._lnprob\u001b[0;34m(self, theta, userfcn, params, var_names, bounds, userargs, userkws, float_behavior, is_weighted, nan_policy)\u001b[0m\n\u001b[1;32m   1118\u001b[0m params\u001b[38;5;241m.\u001b[39mupdate_constraints()\n\u001b[1;32m   1119\u001b[0m \u001b[38;5;66;03m# now calculate the log-likelihood\u001b[39;00m\n\u001b[0;32m-> 1120\u001b[0m out \u001b[38;5;241m=\u001b[39m \u001b[43muserfcn\u001b[49m\u001b[43m(\u001b[49m\u001b[43mparams\u001b[49m\u001b[43m,\u001b[49m\u001b[43m \u001b[49m\u001b[38;5;241;43m*\u001b[39;49m\u001b[43muserargs\u001b[49m\u001b[43m,\u001b[49m\u001b[43m \u001b[49m\u001b[38;5;241;43m*\u001b[39;49m\u001b[38;5;241;43m*\u001b[39;49m\u001b[43muserkwargs\u001b[49m\u001b[43m)\u001b[49m\n\u001b[1;32m   1121\u001b[0m \u001b[38;5;28mself\u001b[39m\u001b[38;5;241m.\u001b[39mresult\u001b[38;5;241m.\u001b[39mnfev \u001b[38;5;241m+\u001b[39m\u001b[38;5;241m=\u001b[39m \u001b[38;5;241m1\u001b[39m\n\u001b[1;32m   1122\u001b[0m \u001b[38;5;28;01mif\u001b[39;00m callable(\u001b[38;5;28mself\u001b[39m\u001b[38;5;241m.\u001b[39miter_cb):\n",
      "File \u001b[0;32m~/anaconda3/lib/python3.9/site-packages/corv-0.1-py3.9.egg/corv/fit.py:173\u001b[0m, in \u001b[0;36mfit_rv.<locals>.<lambda>\u001b[0;34m(params)\u001b[0m\n\u001b[1;32m    169\u001b[0m         params[param]\u001b[38;5;241m.\u001b[39mset(vary \u001b[38;5;241m=\u001b[39m \u001b[38;5;28;01mFalse\u001b[39;00m)\n\u001b[1;32m    171\u001b[0m params[\u001b[38;5;124m'\u001b[39m\u001b[38;5;124mRV\u001b[39m\u001b[38;5;124m'\u001b[39m]\u001b[38;5;241m.\u001b[39mset(value \u001b[38;5;241m=\u001b[39m rv_init, vary \u001b[38;5;241m=\u001b[39m \u001b[38;5;28;01mTrue\u001b[39;00m)\n\u001b[0;32m--> 173\u001b[0m residual \u001b[38;5;241m=\u001b[39m \u001b[38;5;28;01mlambda\u001b[39;00m params: \u001b[43mnormalized_residual\u001b[49m\u001b[43m(\u001b[49m\u001b[43mwl\u001b[49m\u001b[43m,\u001b[49m\u001b[43m \u001b[49m\u001b[43mfl\u001b[49m\u001b[43m,\u001b[49m\u001b[43m \u001b[49m\u001b[43mivar\u001b[49m\u001b[43m,\u001b[49m\u001b[43m \u001b[49m\n\u001b[1;32m    174\u001b[0m \u001b[43m                                              \u001b[49m\u001b[43mcorvmodel\u001b[49m\u001b[43m,\u001b[49m\u001b[43m \u001b[49m\u001b[43mparams\u001b[49m\u001b[43m)\u001b[49m\n\u001b[1;32m    176\u001b[0m emcee_kws \u001b[38;5;241m=\u001b[39m \u001b[38;5;28mdict\u001b[39m(steps\u001b[38;5;241m=\u001b[39m\u001b[38;5;241m1000\u001b[39m, burn\u001b[38;5;241m=\u001b[39m\u001b[38;5;241m500\u001b[39m, thin\u001b[38;5;241m=\u001b[39m\u001b[38;5;241m20\u001b[39m, is_weighted\u001b[38;5;241m=\u001b[39m\u001b[38;5;28;01mFalse\u001b[39;00m,\n\u001b[1;32m    177\u001b[0m              progress\u001b[38;5;241m=\u001b[39m\u001b[38;5;28;01mFalse\u001b[39;00m)\n\u001b[1;32m    179\u001b[0m res \u001b[38;5;241m=\u001b[39m lmfit\u001b[38;5;241m.\u001b[39mminimize(residual, params, method\u001b[38;5;241m=\u001b[39m\u001b[38;5;124m'\u001b[39m\u001b[38;5;124memcee\u001b[39m\u001b[38;5;124m'\u001b[39m,\n\u001b[1;32m    180\u001b[0m                      nan_policy\u001b[38;5;241m=\u001b[39m\u001b[38;5;124m'\u001b[39m\u001b[38;5;124momit\u001b[39m\u001b[38;5;124m'\u001b[39m, steps\u001b[38;5;241m=\u001b[39m\u001b[38;5;241m1000\u001b[39m, burn\u001b[38;5;241m=\u001b[39m\u001b[38;5;241m500\u001b[39m, thin\u001b[38;5;241m=\u001b[39m\u001b[38;5;241m20\u001b[39m, \n\u001b[1;32m    181\u001b[0m                      is_weighted\u001b[38;5;241m=\u001b[39m\u001b[38;5;28;01mFalse\u001b[39;00m, progress\u001b[38;5;241m=\u001b[39m\u001b[38;5;28;01mFalse\u001b[39;00m, float_behavior \u001b[38;5;241m=\u001b[39m \u001b[38;5;124m'\u001b[39m\u001b[38;5;124mchi2\u001b[39m\u001b[38;5;124m'\u001b[39m)\n",
      "File \u001b[0;32m~/anaconda3/lib/python3.9/site-packages/corv-0.1-py3.9.egg/corv/fit.py:46\u001b[0m, in \u001b[0;36mnormalized_residual\u001b[0;34m(wl, fl, ivar, corvmodel, params)\u001b[0m\n\u001b[1;32m     17\u001b[0m \u001b[38;5;250m\u001b[39m\u001b[38;5;124;03m\"\"\"\u001b[39;00m\n\u001b[1;32m     18\u001b[0m \u001b[38;5;124;03mError-scaled residuals between data and evaluated model\u001b[39;00m\n\u001b[1;32m     19\u001b[0m \n\u001b[0;32m   (...)\u001b[0m\n\u001b[1;32m     37\u001b[0m \n\u001b[1;32m     38\u001b[0m \u001b[38;5;124;03m\"\"\"\u001b[39;00m\n\u001b[1;32m     40\u001b[0m nwl, nfl, nivar \u001b[38;5;241m=\u001b[39m utils\u001b[38;5;241m.\u001b[39mcont_norm_lines(wl, fl, ivar,\n\u001b[1;32m     41\u001b[0m                                         corvmodel\u001b[38;5;241m.\u001b[39mnames,\n\u001b[1;32m     42\u001b[0m                                         corvmodel\u001b[38;5;241m.\u001b[39mcentres,\n\u001b[1;32m     43\u001b[0m                                         corvmodel\u001b[38;5;241m.\u001b[39mwindows,\n\u001b[1;32m     44\u001b[0m                                         corvmodel\u001b[38;5;241m.\u001b[39medges)\n\u001b[0;32m---> 46\u001b[0m _,nmodel \u001b[38;5;241m=\u001b[39m \u001b[43mmodels\u001b[49m\u001b[38;5;241;43m.\u001b[39;49m\u001b[43mget_normalized_model\u001b[49m\u001b[43m(\u001b[49m\u001b[43mwl\u001b[49m\u001b[43m,\u001b[49m\u001b[43m \u001b[49m\u001b[43mcorvmodel\u001b[49m\u001b[43m,\u001b[49m\u001b[43m \u001b[49m\u001b[43mparams\u001b[49m\u001b[43m)\u001b[49m\n\u001b[1;32m     47\u001b[0m resid \u001b[38;5;241m=\u001b[39m (nfl \u001b[38;5;241m-\u001b[39m nmodel) \u001b[38;5;241m*\u001b[39m np\u001b[38;5;241m.\u001b[39msqrt(nivar)\n\u001b[1;32m     49\u001b[0m \u001b[38;5;28;01mreturn\u001b[39;00m resid\n",
      "File \u001b[0;32m~/anaconda3/lib/python3.9/site-packages/corv-0.1-py3.9.egg/corv/models.py:225\u001b[0m, in \u001b[0;36mget_normalized_model\u001b[0;34m(wl, corvmodel, params)\u001b[0m\n\u001b[1;32m    204\u001b[0m \u001b[38;5;28;01mdef\u001b[39;00m \u001b[38;5;21mget_normalized_model\u001b[39m(wl, corvmodel, params):\n\u001b[1;32m    205\u001b[0m \u001b[38;5;250m    \u001b[39m\u001b[38;5;124;03m\"\"\"\u001b[39;00m\n\u001b[1;32m    206\u001b[0m \u001b[38;5;124;03m    Evaluates and continuum-normalizes a given corvmodel. \u001b[39;00m\n\u001b[1;32m    207\u001b[0m \n\u001b[0;32m   (...)\u001b[0m\n\u001b[1;32m    223\u001b[0m \n\u001b[1;32m    224\u001b[0m \u001b[38;5;124;03m    \"\"\"\u001b[39;00m\n\u001b[0;32m--> 225\u001b[0m     flux \u001b[38;5;241m=\u001b[39m \u001b[43mcorvmodel\u001b[49m\u001b[38;5;241;43m.\u001b[39;49m\u001b[43meval\u001b[49m\u001b[43m(\u001b[49m\u001b[43mparams\u001b[49m\u001b[43m,\u001b[49m\u001b[43m \u001b[49m\u001b[43mx\u001b[49m\u001b[43m \u001b[49m\u001b[38;5;241;43m=\u001b[39;49m\u001b[43m \u001b[49m\u001b[43mwl\u001b[49m\u001b[43m)\u001b[49m\n\u001b[1;32m    227\u001b[0m     nwl, nfl, _ \u001b[38;5;241m=\u001b[39m utils\u001b[38;5;241m.\u001b[39mcont_norm_lines(wl, flux, flux,\n\u001b[1;32m    228\u001b[0m                                   corvmodel\u001b[38;5;241m.\u001b[39mnames,\n\u001b[1;32m    229\u001b[0m                                   corvmodel\u001b[38;5;241m.\u001b[39mcentres,\n\u001b[1;32m    230\u001b[0m                                   corvmodel\u001b[38;5;241m.\u001b[39mwindows,\n\u001b[1;32m    231\u001b[0m                                   corvmodel\u001b[38;5;241m.\u001b[39medges)\n\u001b[1;32m    233\u001b[0m     \u001b[38;5;28;01mreturn\u001b[39;00m nwl, nfl\n",
      "File \u001b[0;32m~/anaconda3/lib/python3.9/site-packages/lmfit/model.py:1161\u001b[0m, in \u001b[0;36mCompositeModel.eval\u001b[0;34m(self, params, **kwargs)\u001b[0m\n\u001b[1;32m   1159\u001b[0m \u001b[38;5;28;01mdef\u001b[39;00m \u001b[38;5;21meval\u001b[39m(\u001b[38;5;28mself\u001b[39m, params\u001b[38;5;241m=\u001b[39m\u001b[38;5;28;01mNone\u001b[39;00m, \u001b[38;5;241m*\u001b[39m\u001b[38;5;241m*\u001b[39mkwargs):\n\u001b[1;32m   1160\u001b[0m \u001b[38;5;250m    \u001b[39m\u001b[38;5;124;03m\"\"\"Evaluate model function for composite model.\"\"\"\u001b[39;00m\n\u001b[0;32m-> 1161\u001b[0m     \u001b[38;5;28;01mreturn\u001b[39;00m \u001b[38;5;28mself\u001b[39m\u001b[38;5;241m.\u001b[39mop(\u001b[38;5;28;43mself\u001b[39;49m\u001b[38;5;241;43m.\u001b[39;49m\u001b[43mleft\u001b[49m\u001b[38;5;241;43m.\u001b[39;49m\u001b[43meval\u001b[49m\u001b[43m(\u001b[49m\u001b[43mparams\u001b[49m\u001b[38;5;241;43m=\u001b[39;49m\u001b[43mparams\u001b[49m\u001b[43m,\u001b[49m\u001b[43m \u001b[49m\u001b[38;5;241;43m*\u001b[39;49m\u001b[38;5;241;43m*\u001b[39;49m\u001b[43mkwargs\u001b[49m\u001b[43m)\u001b[49m,\n\u001b[1;32m   1162\u001b[0m                    \u001b[38;5;28mself\u001b[39m\u001b[38;5;241m.\u001b[39mright\u001b[38;5;241m.\u001b[39meval(params\u001b[38;5;241m=\u001b[39mparams, \u001b[38;5;241m*\u001b[39m\u001b[38;5;241m*\u001b[39mkwargs))\n",
      "File \u001b[0;32m~/anaconda3/lib/python3.9/site-packages/lmfit/model.py:1161\u001b[0m, in \u001b[0;36mCompositeModel.eval\u001b[0;34m(self, params, **kwargs)\u001b[0m\n\u001b[1;32m   1159\u001b[0m \u001b[38;5;28;01mdef\u001b[39;00m \u001b[38;5;21meval\u001b[39m(\u001b[38;5;28mself\u001b[39m, params\u001b[38;5;241m=\u001b[39m\u001b[38;5;28;01mNone\u001b[39;00m, \u001b[38;5;241m*\u001b[39m\u001b[38;5;241m*\u001b[39mkwargs):\n\u001b[1;32m   1160\u001b[0m \u001b[38;5;250m    \u001b[39m\u001b[38;5;124;03m\"\"\"Evaluate model function for composite model.\"\"\"\u001b[39;00m\n\u001b[0;32m-> 1161\u001b[0m     \u001b[38;5;28;01mreturn\u001b[39;00m \u001b[38;5;28mself\u001b[39m\u001b[38;5;241m.\u001b[39mop(\u001b[38;5;28;43mself\u001b[39;49m\u001b[38;5;241;43m.\u001b[39;49m\u001b[43mleft\u001b[49m\u001b[38;5;241;43m.\u001b[39;49m\u001b[43meval\u001b[49m\u001b[43m(\u001b[49m\u001b[43mparams\u001b[49m\u001b[38;5;241;43m=\u001b[39;49m\u001b[43mparams\u001b[49m\u001b[43m,\u001b[49m\u001b[43m \u001b[49m\u001b[38;5;241;43m*\u001b[39;49m\u001b[38;5;241;43m*\u001b[39;49m\u001b[43mkwargs\u001b[49m\u001b[43m)\u001b[49m,\n\u001b[1;32m   1162\u001b[0m                    \u001b[38;5;28mself\u001b[39m\u001b[38;5;241m.\u001b[39mright\u001b[38;5;241m.\u001b[39meval(params\u001b[38;5;241m=\u001b[39mparams, \u001b[38;5;241m*\u001b[39m\u001b[38;5;241m*\u001b[39mkwargs))\n",
      "File \u001b[0;32m~/anaconda3/lib/python3.9/site-packages/lmfit/model.py:1162\u001b[0m, in \u001b[0;36mCompositeModel.eval\u001b[0;34m(self, params, **kwargs)\u001b[0m\n\u001b[1;32m   1159\u001b[0m \u001b[38;5;28;01mdef\u001b[39;00m \u001b[38;5;21meval\u001b[39m(\u001b[38;5;28mself\u001b[39m, params\u001b[38;5;241m=\u001b[39m\u001b[38;5;28;01mNone\u001b[39;00m, \u001b[38;5;241m*\u001b[39m\u001b[38;5;241m*\u001b[39mkwargs):\n\u001b[1;32m   1160\u001b[0m \u001b[38;5;250m    \u001b[39m\u001b[38;5;124;03m\"\"\"Evaluate model function for composite model.\"\"\"\u001b[39;00m\n\u001b[1;32m   1161\u001b[0m     \u001b[38;5;28;01mreturn\u001b[39;00m \u001b[38;5;28mself\u001b[39m\u001b[38;5;241m.\u001b[39mop(\u001b[38;5;28mself\u001b[39m\u001b[38;5;241m.\u001b[39mleft\u001b[38;5;241m.\u001b[39meval(params\u001b[38;5;241m=\u001b[39mparams, \u001b[38;5;241m*\u001b[39m\u001b[38;5;241m*\u001b[39mkwargs),\n\u001b[0;32m-> 1162\u001b[0m                    \u001b[38;5;28;43mself\u001b[39;49m\u001b[38;5;241;43m.\u001b[39;49m\u001b[43mright\u001b[49m\u001b[38;5;241;43m.\u001b[39;49m\u001b[43meval\u001b[49m\u001b[43m(\u001b[49m\u001b[43mparams\u001b[49m\u001b[38;5;241;43m=\u001b[39;49m\u001b[43mparams\u001b[49m\u001b[43m,\u001b[49m\u001b[43m \u001b[49m\u001b[38;5;241;43m*\u001b[39;49m\u001b[38;5;241;43m*\u001b[39;49m\u001b[43mkwargs\u001b[49m\u001b[43m)\u001b[49m)\n",
      "File \u001b[0;32m~/anaconda3/lib/python3.9/site-packages/lmfit/model.py:871\u001b[0m, in \u001b[0;36mModel.eval\u001b[0;34m(self, params, **kwargs)\u001b[0m\n\u001b[1;32m    839\u001b[0m \u001b[38;5;28;01mdef\u001b[39;00m \u001b[38;5;21meval\u001b[39m(\u001b[38;5;28mself\u001b[39m, params\u001b[38;5;241m=\u001b[39m\u001b[38;5;28;01mNone\u001b[39;00m, \u001b[38;5;241m*\u001b[39m\u001b[38;5;241m*\u001b[39mkwargs):\n\u001b[1;32m    840\u001b[0m \u001b[38;5;250m    \u001b[39m\u001b[38;5;124;03m\"\"\"Evaluate the model with supplied parameters and keyword arguments.\u001b[39;00m\n\u001b[1;32m    841\u001b[0m \n\u001b[1;32m    842\u001b[0m \u001b[38;5;124;03m    Parameters\u001b[39;00m\n\u001b[0;32m   (...)\u001b[0m\n\u001b[1;32m    869\u001b[0m \n\u001b[1;32m    870\u001b[0m \u001b[38;5;124;03m    \"\"\"\u001b[39;00m\n\u001b[0;32m--> 871\u001b[0m     \u001b[38;5;28;01mreturn\u001b[39;00m \u001b[38;5;28;43mself\u001b[39;49m\u001b[38;5;241;43m.\u001b[39;49m\u001b[43mfunc\u001b[49m\u001b[43m(\u001b[49m\u001b[38;5;241;43m*\u001b[39;49m\u001b[38;5;241;43m*\u001b[39;49m\u001b[38;5;28;43mself\u001b[39;49m\u001b[38;5;241;43m.\u001b[39;49m\u001b[43mmake_funcargs\u001b[49m\u001b[43m(\u001b[49m\u001b[43mparams\u001b[49m\u001b[43m,\u001b[49m\u001b[43m \u001b[49m\u001b[43mkwargs\u001b[49m\u001b[43m)\u001b[49m\u001b[43m)\u001b[49m\n",
      "File \u001b[0;32m~/anaconda3/lib/python3.9/site-packages/lmfit/lineshapes.py:117\u001b[0m, in \u001b[0;36mvoigt\u001b[0;34m(x, amplitude, center, sigma, gamma)\u001b[0m\n\u001b[1;32m    115\u001b[0m     gamma \u001b[38;5;241m=\u001b[39m sigma\n\u001b[1;32m    116\u001b[0m z \u001b[38;5;241m=\u001b[39m (x\u001b[38;5;241m-\u001b[39mcenter \u001b[38;5;241m+\u001b[39m \u001b[38;5;241m1\u001b[39mj\u001b[38;5;241m*\u001b[39mgamma) \u001b[38;5;241m/\u001b[39m \u001b[38;5;28mmax\u001b[39m(tiny, (sigma\u001b[38;5;241m*\u001b[39ms2))\n\u001b[0;32m--> 117\u001b[0m \u001b[38;5;28;01mreturn\u001b[39;00m amplitude\u001b[38;5;241m*\u001b[39m\u001b[43mwofz\u001b[49m\u001b[43m(\u001b[49m\u001b[43mz\u001b[49m\u001b[43m)\u001b[49m\u001b[38;5;241m.\u001b[39mreal \u001b[38;5;241m/\u001b[39m \u001b[38;5;28mmax\u001b[39m(tiny, (sigma\u001b[38;5;241m*\u001b[39ms2pi))\n",
      "\u001b[0;31mKeyboardInterrupt\u001b[0m: "
     ]
    }
   ],
   "source": [
    "figs = []\n",
    "\n",
    "for j in tqdm( range(len(falcon_xmatch))):\n",
    "    # Extract SDSS plate, mjd, and fiberID from each target in both catalogs\n",
    "    p,m,f = np.array(falcon_xmatch['col_p_m_f'][j].split('-')).astype(float)\n",
    "    \n",
    "    # Query SDSS for spectra \n",
    "    xid = SDSS.query_specobj(plate = p, mjd = m, fiberID = f)\n",
    "    sp = SDSS.get_spectra(matches=xid)\n",
    "    \n",
    "    # Get pertinent spectrum data    \n",
    "    wl = np.array(10**sp[0][1].data['loglam'])\n",
    "    fl = np.array(sp[0][1].data['flux'])\n",
    "    ivar = np.array(sp[0][1].data['ivar'])\n",
    "            \n",
    "    # Make & fit a corv model without templates\n",
    "    corvmodel = corv.models.make_balmer_model(nvoigt = 2, names = ['a','b','g','d'])\n",
    "    param_res, rv_res, rv_init = corv.fit.fit_corv(wl, fl, ivar, corvmodel)        \n",
    "        \n",
    "    # Add that to the list\n",
    "    falcon_xmatch['corv_rv'][j] = (rv_res.params['RV'].value)\n",
    "    falcon_xmatch['corv_erv'][j] = (rv_res.params['RV'].stderr)"
   ]
  },
  {
   "cell_type": "code",
   "execution_count": null,
   "id": "331e2166-0485-43f0-a547-ec606192fa36",
   "metadata": {},
   "outputs": [],
   "source": [
    "rms = (falcon_xmatch['Adp-V'][np.abs(falcon_xmatch['corv_rv']) < 2500] - falcon_xmatch['corv_rv'][np.abs(falcon_xmatch['corv_rv']) < 2500])**2"
   ]
  },
  {
   "cell_type": "code",
   "execution_count": null,
   "id": "c6cdf558-9920-4534-af22-e4adf6f4ced4",
   "metadata": {},
   "outputs": [],
   "source": [
    "def linear(x):\n",
    "    return x\n",
    "\n",
    "plt.figure(figsize=(10,10))\n",
    "plt.style.use('stefan.mplstyle')\n",
    "\n",
    "plt.errorbar(falcon_xmatch['Adp-V'][np.abs(falcon_xmatch['corv_rv']) < 2500], falcon_xmatch['corv_rv'][np.abs(falcon_xmatch['corv_rv']) < 2500], \n",
    "             xerr = falcon_xmatch['e_Adp-V'][np.abs(falcon_xmatch['corv_rv']) < 2500], yerr = falcon_xmatch['corv_erv'][np.abs(falcon_xmatch['corv_rv']) < 2500],\n",
    "             fmt='o', label = 'Data', color='black', ecolor = 'teal')\n",
    "plt.plot(falcon_xmatch['vr'][np.abs(falcon_xmatch['corv_rv']) < 2500], linear(falcon_xmatch['vr'][np.abs(falcon_xmatch['corv_rv']) < 2500]), color = 'black')\n",
    "\n",
    "\n",
    "ymin, ymax = plt.ylim()\n",
    "plt.xlabel(r'RV (Falcon et. al, 2010) $[km/s]$')\n",
    "plt.ylabel(r'RV (corv) $[km/s]$')"
   ]
  },
  {
   "cell_type": "markdown",
   "id": "8a1901e1-9466-4e96-92fd-8a3d749b59a9",
   "metadata": {},
   "source": [
    "<a id=\"validation-template\"></a>\n",
    "\n",
    "**01. Validating RVs With Templates (Need to check/proofread)**\n",
    "\n",
    "---"
   ]
  },
  {
   "cell_type": "code",
   "execution_count": null,
   "id": "8865cff9-b384-4463-b462-5aa0d8dd4197",
   "metadata": {
    "tags": []
   },
   "outputs": [],
   "source": [
    "figs = []\n",
    "\n",
    "for j in tqdm( range(len(falcon_xmatch))):\n",
    "    p,m,f = np.array(falcon_xmatch['col_p_m_f'][j].split('-')).astype(float)\n",
    "    \n",
    "    try:\n",
    "        xid = SDSS.query_specobj(plate = p, mjd = m, fiberID = f)\n",
    "    except ValueError:\n",
    "        print('unknown error')\n",
    "        \n",
    "    try:\n",
    "        sp = SDSS.get_spectra(matches=xid)\n",
    "    except:\n",
    "        print('http error')\n",
    "        continue\n",
    "    for i in range(len(sp[0:1])):\n",
    "        wl = np.array(10**sp[i][1].data['loglam'])\n",
    "        fl = np.array(sp[i][1].data['flux'])\n",
    "        ivar = np.array(sp[i][1].data['ivar'])\n",
    "                \n",
    "        corvmodel = corv.models.make_koester_model(names = ['a','b','g','d'])\n",
    "        param_res, rv_res, rv_init = corv.fit.fit_corv(wl, fl, ivar, corvmodel)        \n",
    "        \n",
    "        \n",
    "    falcon_xmatch['corv_rv'][j] = (rv_res.params['RV'].value)\n",
    "    falcon_xmatch['corv_erv'][j] = (rv_res.params['RV'].stderr)"
   ]
  },
  {
   "cell_type": "code",
   "execution_count": null,
   "id": "9bc1f301-0d56-4921-951a-e1418d19cc4a",
   "metadata": {
    "tags": []
   },
   "outputs": [],
   "source": [
    "plt.figure(figsize=(10,10))\n",
    "plt.style.use('stefan.mplstyle')\n",
    "\n",
    "plt.errorbar(falcon_xmatch['Adp-V'][np.abs(falcon_xmatch['corv_rv']) < 2500], falcon_xmatch['corv_rv'][np.abs(falcon_xmatch['corv_rv']) < 2500], \n",
    "             xerr = falcon_xmatch['e_Adp-V'][np.abs(falcon_xmatch['corv_rv']) < 2500], yerr = falcon_xmatch['corv_erv'][np.abs(falcon_xmatch['corv_rv']) < 2500],\n",
    "             fmt='o', label = 'Data', color='black', ecolor = 'teal')\n",
    "plt.plot(falcon_xmatch['vr'][np.abs(falcon_xmatch['corv_rv']) < 2500], linear(falcon_xmatch['vr'][np.abs(falcon_xmatch['corv_rv']) < 2500]), color = 'black')\n",
    "\n",
    "\n",
    "ymin, ymax = plt.ylim()\n",
    "plt.xlabel(r'RV (Falcon et. al, 2010) $[km/s]$')\n",
    "plt.ylabel(r'RV (corv) $[km/s]$')"
   ]
  },
  {
   "cell_type": "code",
   "execution_count": null,
   "id": "80ff398c-21f4-4c45-ae0e-ed16fab5e288",
   "metadata": {},
   "outputs": [],
   "source": []
  }
 ],
 "metadata": {
  "kernelspec": {
   "display_name": "Python 3 (ipykernel)",
   "language": "python",
   "name": "python3"
  },
  "language_info": {
   "codemirror_mode": {
    "name": "ipython",
    "version": 3
   },
   "file_extension": ".py",
   "mimetype": "text/x-python",
   "name": "python",
   "nbconvert_exporter": "python",
   "pygments_lexer": "ipython3",
   "version": "3.9.13"
  }
 },
 "nbformat": 4,
 "nbformat_minor": 5
}
