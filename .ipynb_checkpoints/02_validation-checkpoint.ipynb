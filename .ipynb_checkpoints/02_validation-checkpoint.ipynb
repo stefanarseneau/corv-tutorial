{
 "cells": [
  {
   "cell_type": "markdown",
   "id": "73cdf80d-9636-4ef4-a49a-83be9457b400",
   "metadata": {},
   "source": [
    "## corv: Validations Off Of Falcon et al 2010\n",
    "\n",
    "[GitHub Page](https://github.com/vedantchandra/corv)\n",
    "\n",
    "---\n",
    "\n",
    "Table Of Contents:\n",
    "\n",
    "1. [Validation With Templates](#da-no-template)\n",
    "2. [Validation Without Templates](#db-no-template)\n",
    "\n",
    "---"
   ]
  },
  {
   "cell_type": "code",
   "execution_count": 5,
   "id": "60c4f872-73c7-432b-8a72-7aeb2d45224d",
   "metadata": {
    "tags": []
   },
   "outputs": [
    {
     "name": "stdout",
     "output_type": "stream",
     "text": [
      "/home/arseneau/anaconda3/lib/python3.9/site-packages/corv-0.1-py3.9.egg/corv/__init__.py\n"
     ]
    }
   ],
   "source": [
    "# Install a pip package in the current Jupyter kernel\n",
    "\n",
    "\n",
    "### General\n",
    "import numpy as np\n",
    "import matplotlib.pyplot as plt\n",
    "#import matplotlib.colors as colors\n",
    "\n",
    "import astropy\n",
    "from astropy.coordinates import SkyCoord\n",
    "from astropy.io import fits\n",
    "import astropy.units as u\n",
    "from astropy.table import Table, Column, MaskedColumn, join\n",
    "\n",
    "from tqdm import tqdm\n",
    "\n",
    "import corv\n",
    "\n",
    "print(corv.__file__)\n",
    "#corv.sdss.make_catalogs()"
   ]
  },
  {
   "cell_type": "code",
   "execution_count": 2,
   "id": "af1f2de8-e67f-4b05-b11b-4b2f0d35724d",
   "metadata": {
    "tags": []
   },
   "outputs": [],
   "source": [
    "catalog = Table.read('data/sed_radii.fits')\n",
    "falcon = Table.read('data/falcon2010.fit')\n",
    "\n",
    "catalog['corv_rv'] = -9999 * np.ones(len(catalog))\n",
    "catalog['corv_erv'] = -9999 * np.ones(len(catalog))"
   ]
  },
  {
   "cell_type": "code",
   "execution_count": 3,
   "id": "968a55c9-a700-4c0d-ab9d-38886c4748fc",
   "metadata": {
    "tags": []
   },
   "outputs": [],
   "source": [
    "from astropy.coordinates import SkyCoord\n",
    "import astropy.units as u\n",
    "from astropy.table import Table, join_skycoord\n",
    "from astropy import table\n",
    "\n",
    "catalog['wd_pos'] = SkyCoord(catalog['ra'], catalog['dec'], unit='deg')\n",
    "falcon['wd_pos'] = SkyCoord(falcon['_RA'], falcon['_DE'], unit='deg')\n",
    "\n",
    "join_func = table.join_skycoord(5 * u.arcsecond)\n",
    "falcon_xmatch = table.join(catalog, falcon, join_funcs={'wd_pos': join_skycoord(5 * u.arcsec)})"
   ]
  },
  {
   "cell_type": "code",
   "execution_count": 4,
   "id": "72457964-f759-45f5-a7d0-3c8d5a55e1cd",
   "metadata": {
    "tags": []
   },
   "outputs": [
    {
     "name": "stderr",
     "output_type": "stream",
     "text": [
      "  0%|                                                                                            | 0/97 [00:00<?, ?it/s]\n"
     ]
    },
    {
     "ename": "NameError",
     "evalue": "name 'SDSS' is not defined",
     "output_type": "error",
     "traceback": [
      "\u001b[0;31m---------------------------------------------------------------------------\u001b[0m",
      "\u001b[0;31mNameError\u001b[0m                                 Traceback (most recent call last)",
      "Cell \u001b[0;32mIn[4], line 7\u001b[0m\n\u001b[1;32m      4\u001b[0m p,m,f \u001b[38;5;241m=\u001b[39m np\u001b[38;5;241m.\u001b[39marray(falcon_xmatch[\u001b[38;5;124m'\u001b[39m\u001b[38;5;124mcol_p_m_f\u001b[39m\u001b[38;5;124m'\u001b[39m][j]\u001b[38;5;241m.\u001b[39msplit(\u001b[38;5;124m'\u001b[39m\u001b[38;5;124m-\u001b[39m\u001b[38;5;124m'\u001b[39m))\u001b[38;5;241m.\u001b[39mastype(\u001b[38;5;28mfloat\u001b[39m)\n\u001b[1;32m      6\u001b[0m \u001b[38;5;28;01mtry\u001b[39;00m:\n\u001b[0;32m----> 7\u001b[0m     xid \u001b[38;5;241m=\u001b[39m \u001b[43mSDSS\u001b[49m\u001b[38;5;241m.\u001b[39mquery_specobj(plate \u001b[38;5;241m=\u001b[39m p, mjd \u001b[38;5;241m=\u001b[39m m, fiberID \u001b[38;5;241m=\u001b[39m f)\n\u001b[1;32m      8\u001b[0m \u001b[38;5;28;01mexcept\u001b[39;00m \u001b[38;5;167;01mValueError\u001b[39;00m:\n\u001b[1;32m      9\u001b[0m     \u001b[38;5;28mprint\u001b[39m(\u001b[38;5;124m'\u001b[39m\u001b[38;5;124munknown error\u001b[39m\u001b[38;5;124m'\u001b[39m)\n",
      "\u001b[0;31mNameError\u001b[0m: name 'SDSS' is not defined"
     ]
    }
   ],
   "source": [
    "figs = []\n",
    "\n",
    "for j in tqdm( range(len(falcon_xmatch))):\n",
    "    p,m,f = np.array(falcon_xmatch['col_p_m_f'][j].split('-')).astype(float)\n",
    "    \n",
    "    try:\n",
    "        xid = SDSS.query_specobj(plate = p, mjd = m, fiberID = f)\n",
    "    except ValueError:\n",
    "        print('unknown error')\n",
    "        \n",
    "    if xid == None:\n",
    "        print('object not found in SDSS... skipping...')\n",
    "        continue\n",
    "    try:\n",
    "        sp = SDSS.get_spectra(matches=xid)\n",
    "    except:\n",
    "        print('http error')\n",
    "        continue\n",
    "    for i in range(len(sp[0:1])):\n",
    "        wl = np.array(10**sp[i][1].data['loglam'])\n",
    "        fl = np.array(sp[i][1].data['flux'])\n",
    "        ivar = np.array(sp[i][1].data['ivar'])\n",
    "        \n",
    "        print(catalog['teff'][j])\n",
    "        \n",
    "        corvmodel = corv.models.make_koester_model(names = ['a','b','g','d'])\n",
    "        param_res, rv_res, rv_init = corv.fit.fit_corv(wl, fl, ivar, corvmodel)\n",
    "        print(str(rv_res.params['RV'].value) + '+/-' + str(rv_res.params['RV'].stderr))\n",
    "        \n",
    "        f = corv.utils.lineplot(wl, fl, ivar, corvmodel, rv_res.params, gap = 0.3, printparams = False, figsize = (6, 5))\n",
    "\n",
    "        f.suptitle('%d : %2.2f +/- %2.2f' % (i, rv_res.params['RV'].value, rv_res.params['RV'].stderr))\n",
    "        figs.append(f)\n",
    "        \n",
    "        \n",
    "        \n",
    "    falcon_xmatch['corv_rv'][j] = (rv_res.params['RV'].value)\n",
    "    falcon_xmatch['corv_erv'][j] = (rv_res.params['RV'].stderr)"
   ]
  },
  {
   "cell_type": "code",
   "execution_count": null,
   "id": "c6cdf558-9920-4534-af22-e4adf6f4ced4",
   "metadata": {},
   "outputs": [],
   "source": []
  }
 ],
 "metadata": {
  "kernelspec": {
   "display_name": "Python 3 (ipykernel)",
   "language": "python",
   "name": "python3"
  },
  "language_info": {
   "codemirror_mode": {
    "name": "ipython",
    "version": 3
   },
   "file_extension": ".py",
   "mimetype": "text/x-python",
   "name": "python",
   "nbconvert_exporter": "python",
   "pygments_lexer": "ipython3",
   "version": "3.9.13"
  }
 },
 "nbformat": 4,
 "nbformat_minor": 5
}
